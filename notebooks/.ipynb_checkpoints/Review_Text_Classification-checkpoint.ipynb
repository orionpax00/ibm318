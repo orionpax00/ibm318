{
 "cells": [
  {
   "cell_type": "code",
   "execution_count": null,
   "metadata": {
    "scrolled": true
   },
   "outputs": [],
   "source": [
    "import nltk\n",
    "import pandas as pd\n",
    "import re\n",
    "from collections import Counter\n",
    "import time\n",
    "import numpy as np\n",
    "import PyDictionary\n",
    "import warnings\n",
    "warnings.filterwarnings(\"ignore\")"
   ]
  },
  {
   "cell_type": "code",
   "execution_count": null,
   "metadata": {
    "scrolled": true
   },
   "outputs": [],
   "source": [
    "df=pd.read_csv('../report/reviewsharidwar.csv',encoding='iso-8859-1')\n",
    "df.reviewText[0]"
   ]
  },
  {
   "cell_type": "code",
   "execution_count": null,
   "metadata": {
    "scrolled": true
   },
   "outputs": [],
   "source": [
    "def Remove_URLs(x):\n",
    "    x = x.split(' ')\n",
    "    x = [i for i in x if not len(re.findall(r'[\\w\\.-]+@[\\w\\.-]+',i))]\n",
    "    x = ' '.join(x)\n",
    "    return x\n",
    "def tokenizing(x):\n",
    "    return nltk.tokenize.word_tokenize(x)\n",
    "def stopwords(x):\n",
    "    stop_words=nltk.corpus.stopwords.words('english')\n",
    "    x=[i for i in x if i not in stop_words]\n",
    "    return x\n",
    "def Lemmatization(x):\n",
    "    lemmatizer=nltk.stem.WordNetLemmatizer()\n",
    "    x = [ lemmatizer.lemmatize(i) for i in x]\n",
    "    return x\n",
    "def Remove_numbers(x):\n",
    "    x = [re.sub('[^A-Z,a-z]+','',i) for i in x]\n",
    "    x = ' '.join(x).lower()\n",
    "    return x\n",
    "\n",
    "   "
   ]
  },
  {
   "cell_type": "code",
   "execution_count": null,
   "metadata": {
    "scrolled": true
   },
   "outputs": [],
   "source": [
    "x = df.reviewText\n",
    "Remove_numbers(tokenizing(x[0]))"
   ]
  },
  {
   "cell_type": "code",
   "execution_count": null,
   "metadata": {
    "scrolled": true
   },
   "outputs": [],
   "source": [
    "def preprocess(x):\n",
    "\n",
    "    x = Remove_URLs(x)\n",
    "    x = tokenizing(x)\n",
    "    x = stopwords(x)\n",
    "    x = Lemmatization(x)\n",
    "    x = Remove_numbers(x)\n",
    "    return x"
   ]
  },
  {
   "cell_type": "code",
   "execution_count": null,
   "metadata": {
    "scrolled": true
   },
   "outputs": [],
   "source": [
    "x=list(df.reviewText)\n",
    "df.reviewText[0]"
   ]
  },
  {
   "cell_type": "code",
   "execution_count": null,
   "metadata": {
    "scrolled": true
   },
   "outputs": [],
   "source": [
    "preprocess(df.reviewText[0])"
   ]
  },
  {
   "cell_type": "code",
   "execution_count": null,
   "metadata": {
    "scrolled": false
   },
   "outputs": [],
   "source": [
    "t1 = time.time()\n",
    "df['Preprocess_Review'] =  df.reviewText.apply(lambda x: preprocess(x) if isinstance(x,str) else ' ')\n",
    "time.time() - t1"
   ]
  },
  {
   "cell_type": "code",
   "execution_count": null,
   "metadata": {
    "scrolled": true
   },
   "outputs": [],
   "source": [
    "t1 = time.time()\n",
    "Word_dict = set()\n",
    "for i in df.Preprocess_Review:\n",
    "    Word_dict |= set(nltk.tokenize.word_tokenize(i))\n",
    "time.time()-t1"
   ]
  },
  {
   "cell_type": "code",
   "execution_count": null,
   "metadata": {
    "scrolled": true
   },
   "outputs": [],
   "source": [
    "Word_tags = pd.DataFrame(nltk.pos_tag(list(Word_dict)))"
   ]
  },
  {
   "cell_type": "code",
   "execution_count": null,
   "metadata": {
    "scrolled": true
   },
   "outputs": [],
   "source": [
    "Word_tags[1].unique()"
   ]
  },
  {
   "cell_type": "code",
   "execution_count": null,
   "metadata": {
    "scrolled": true
   },
   "outputs": [],
   "source": [
    "Words_verbs = Word_tags[Word_tags[1].isin(['VB','VBP','VBN','VBZ','RB'])]\n",
    "[i for i in nltk.pos_tag(nltk.tokenize.word_tokenize(df.Preprocess_Review[0])) if i[1] in ['VB','VBP','VBZ','RB','VBN']]\n",
    "df.Preprocess_Review[0]"
   ]
  },
  {
   "cell_type": "code",
   "execution_count": null,
   "metadata": {
    "scrolled": true
   },
   "outputs": [],
   "source": [
    "t1 = time.time()\n",
    "def func(x):\n",
    "    tokens = nltk.pos_tag(nltk.tokenize.word_tokenize(x))\n",
    "    verbs = [i for i in tokens if i[1] in ['VB','VBP','VBZ','RB','VBN']]\n",
    "    return verbs\n",
    "df['Verbs'] = df.Preprocess_Review.apply(lambda x : func(x))\n",
    "time.time()-t1"
   ]
  },
  {
   "cell_type": "code",
   "execution_count": null,
   "metadata": {
    "scrolled": true
   },
   "outputs": [],
   "source": [
    "nltk.corpus.brown.categories()"
   ]
  },
  {
   "cell_type": "code",
   "execution_count": null,
   "metadata": {
    "scrolled": true
   },
   "outputs": [],
   "source": [
    "nltk.corpus.brown.words(categories='adventure')"
   ]
  },
  {
   "cell_type": "code",
   "execution_count": null,
   "metadata": {
    "scrolled": true
   },
   "outputs": [],
   "source": [
    "x[0]"
   ]
  },
  {
   "cell_type": "code",
   "execution_count": null,
   "metadata": {
    "scrolled": true
   },
   "outputs": [],
   "source": [
    "w = x[0]+'98.4   34   4343  32.33 343.0'\n",
    "re.findall('\\d+\\.\\d+',w)"
   ]
  },
  {
   "cell_type": "code",
   "execution_count": null,
   "metadata": {
    "scrolled": true
   },
   "outputs": [],
   "source": [
    "re.findall(r'[o][u][t]',x[0])"
   ]
  },
  {
   "cell_type": "code",
   "execution_count": null,
   "metadata": {
    "scrolled": true
   },
   "outputs": [],
   "source": [
    "re.findall(r'\\d+.\\d+',w)"
   ]
  },
  {
   "cell_type": "code",
   "execution_count": null,
   "metadata": {
    "scrolled": true
   },
   "outputs": [],
   "source": [
    "[w for w in nltk.tokenize.word_tokenize(x[0]) if re.search(r'ge$',w)]"
   ]
  },
  {
   "cell_type": "code",
   "execution_count": null,
   "metadata": {
    "scrolled": true
   },
   "outputs": [],
   "source": [
    "w = wordlist = nltk.tokenize.word_tokenize(x[0])\n",
    "list(map(lambda x: x.lower(),wordlist))[:5]"
   ]
  },
  {
   "cell_type": "code",
   "execution_count": null,
   "metadata": {
    "scrolled": true
   },
   "outputs": [],
   "source": [
    "x[0]"
   ]
  },
  {
   "cell_type": "code",
   "execution_count": null,
   "metadata": {
    "scrolled": true
   },
   "outputs": [],
   "source": [
    "[w for w in nltk.tokenize.word_tokenize(x[0]) if re.search(r'\\w{5,7}$', w)][:5]"
   ]
  },
  {
   "cell_type": "code",
   "execution_count": null,
   "metadata": {
    "scrolled": true
   },
   "outputs": [],
   "source": [
    "[w for w in nltk.tokenize.word_tokenize(x[0]) if re.search(r'^[a-zA-F]{5}$', w)][:5]"
   ]
  },
  {
   "cell_type": "code",
   "execution_count": null,
   "metadata": {
    "scrolled": true
   },
   "outputs": [],
   "source": [
    "re.findall(r'[o][u]',x[0])[:5]"
   ]
  },
  {
   "cell_type": "code",
   "execution_count": null,
   "metadata": {
    "scrolled": true
   },
   "outputs": [],
   "source": [
    "wordlist = nltk.tokenize.word_tokenize(x[3])\n",
    "[w for w in wordlist if re.search('^[a-z]{3,}$', w)][:5]"
   ]
  },
  {
   "cell_type": "code",
   "execution_count": null,
   "metadata": {
    "scrolled": true
   },
   "outputs": [],
   "source": [
    "re.search(r'[i][t]+',x[0])"
   ]
  },
  {
   "cell_type": "code",
   "execution_count": null,
   "metadata": {
    "scrolled": true
   },
   "outputs": [],
   "source": [
    "[w for w in nltk.tokenize.word_tokenize(x[0]) if re.search('^[ghi][mno][jlk][def]$', w)]"
   ]
  },
  {
   "cell_type": "code",
   "execution_count": null,
   "metadata": {
    "scrolled": true
   },
   "outputs": [],
   "source": [
    "import nltk\n",
    "a=nltk.corpus.brown.tagged_words(categories='news')[:15]"
   ]
  },
  {
   "cell_type": "code",
   "execution_count": null,
   "metadata": {
    "scrolled": true
   },
   "outputs": [],
   "source": [
    "fd = nltk.FreqDist(nltk.corpus.brown.words(categories='news'))\n",
    "fd.most_common(5)"
   ]
  },
  {
   "cell_type": "code",
   "execution_count": null,
   "metadata": {
    "scrolled": true
   },
   "outputs": [],
   "source": [
    "fd = nltk.ConditionalFreqDist(nltk.corpus.brown.words(categories='news'))\n",
    "fd.most_common(5)"
   ]
  },
  {
   "cell_type": "code",
   "execution_count": null,
   "metadata": {},
   "outputs": [],
   "source": [
    "from nltk.corpus import brown\n",
    "brown_tagged_sents = brown.tagged_sents(categories='news')\n",
    "brown_sents = brown.sents(categories='news')"
   ]
  },
  {
   "cell_type": "code",
   "execution_count": null,
   "metadata": {},
   "outputs": [],
   "source": [
    "unigram_tagger = nltk.UnigramTagger(brown_tagged_sents)\n",
    "unigram_tagger.tag(brown_sents[2007])[:10]"
   ]
  },
  {
   "cell_type": "code",
   "execution_count": null,
   "metadata": {},
   "outputs": [],
   "source": [
    "train_sents = brown_tagged_sents[:4000]\n",
    "test_sents = brown_tagged_sents[4000:]\n",
    "unigram_tagger = nltk.UnigramTagger(train_sents)\n",
    "unigram_tagger.evaluate(test_sents)"
   ]
  },
  {
   "cell_type": "code",
   "execution_count": null,
   "metadata": {},
   "outputs": [],
   "source": []
  },
  {
   "cell_type": "code",
   "execution_count": null,
   "metadata": {
    "scrolled": true
   },
   "outputs": [],
   "source": [
    "\n",
    "d =nltk.ConditionalFreqDist(nltk.pos_tag(nltk.tokenize.word_tokenize(x[0])))\n",
    "cfd = nltk.ConditionalFreqDist(nltk.corpus.brown.tagged_words(categories='news')[:15])\n",
    "pd.DataFrame(cfd.tabulate()).head()"
   ]
  },
  {
   "cell_type": "code",
   "execution_count": null,
   "metadata": {
    "scrolled": true
   },
   "outputs": [],
   "source": [
    " nltk.corpus.brown.tagged_sents(categories='news')"
   ]
  },
  {
   "cell_type": "code",
   "execution_count": null,
   "metadata": {
    "scrolled": true
   },
   "outputs": [],
   "source": []
  },
  {
   "cell_type": "code",
   "execution_count": null,
   "metadata": {
    "scrolled": true
   },
   "outputs": [],
   "source": []
  },
  {
   "cell_type": "code",
   "execution_count": null,
   "metadata": {},
   "outputs": [],
   "source": [
    "import requests\n",
    "import json\n",
    "\n",
    "app_id = '96612f3b'\n",
    "app_key = 'dc9b1d7ab5ec44eca4ea60507126bdae'\n",
    "\n",
    "language = 'en'\n",
    "word_id = 'eat'\n",
    "\n",
    "url = 'https://od-api.oxforddictionaries.com:443/api/v1/entries/' + language + '/' + word_id.lower() + '/synonyms'\n",
    "\n",
    "r = requests.get(url, headers = {'app_id': app_id, 'app_key': app_key})\n",
    "\n",
    "#print(\"code {}\\n\".format(r.status_code))\n",
    "#print(\"text \\n\" + r.text)\n",
    "#print(\"json \\n\" + json.dumps(r.json()))"
   ]
  },
  {
   "cell_type": "code",
   "execution_count": null,
   "metadata": {},
   "outputs": [],
   "source": [
    "# retrieving the Synonyms and Antonyms of a asked word 'eat'\n",
    "da = r.json()['results'][0]['lexicalEntries'][0]['entries'][0]['senses'][0]['subsenses'][0]\n",
    "try:\n",
    "    if da['registers'][0] == 'informal':\n",
    "        #print(da['synonyms'])\n",
    "        print('informal')\n",
    "        for i in (da['synonyms']):\n",
    "            print(i['text'])\n",
    "except:\n",
    "    for i in (da['synonyms']):\n",
    "            print(i['text'])\n",
    "    "
   ]
  },
  {
   "cell_type": "code",
   "execution_count": null,
   "metadata": {},
   "outputs": [],
   "source": [
    "import PyDictionary\n",
    "Dictionary =  PyDictionary.PyDictionary()"
   ]
  },
  {
   "cell_type": "code",
   "execution_count": null,
   "metadata": {},
   "outputs": [],
   "source": [
    "Negative_Features = ['word','Apathy','Atrocious','Bemoan','Cold-hearted','Deplorable','Despicable','Detrimental','Dreadful','Ghastly','Grotesque','Gruesome','Hard-hearted','Insidious','Insipid','Malicious','Monstrous','Noxious','Offensive','Oppressive','Pessimistic','Prejudice','Repulsive','Ruthless','Sinister','Vice','Vicious','Vile','Villainous','Vindictive']"
   ]
  },
  {
   "cell_type": "code",
   "execution_count": null,
   "metadata": {},
   "outputs": [],
   "source": [
    "word_in = 'Apathy'\n",
    "syns = Dictionary.synonym(word_in)\n",
    "count = 0\n",
    "while syns is None and count <20:\n",
    "    syns = Dictionary.synonym(word_in)\n",
    "    count = count + 1\n"
   ]
  },
  {
   "cell_type": "code",
   "execution_count": null,
   "metadata": {
    "scrolled": true
   },
   "outputs": [],
   "source": [
    "t1 = time.time()\n",
    "word = 'Apathy'\n",
    "temp_df = pd.DataFrame(columns= [word,'word'])\n",
    "syns = Dictionary.synonym(word)\n",
    "while syns is None:\n",
    "    syns = Dictionary.synonym(word)\n",
    "    \n",
    "temp_list1 = syns\n",
    "temp_list2 = []\n",
    "words = []\n",
    "score = []\n",
    "words.extend(syns)\n",
    "score.extend(np.repeat(1,len(syns)))\n",
    "print('stage -1')\n",
    "print(temp_list1)\n",
    "    \n",
    "for i in range(1):\n",
    "    print('loop',i)\n",
    "    \n",
    "    for j in temp_list1:\n",
    "        \n",
    "        if j not in words:\n",
    "            print('inner')\n",
    "            word_in = j.split(' ')[0]\n",
    "            syns = Dictionary.synonym(word_in)\n",
    "            count = 0\n",
    "            while syns is None and count <20:\n",
    "                syns = Dictionary.synonym(word_in)\n",
    "                count = count + 1\n",
    "            if syns is not None:\n",
    "                temp_list2.extend(syns)\n",
    "\n",
    "    words.extend(temp_list2)\n",
    "    score.extend(np.repeat(1-0.005*i,len(temp_list2)))\n",
    "    temp_list1 = temp_list2\n",
    "\n",
    "    \n",
    "    \n",
    "#     syns = Dictionary.synonym(word)\n",
    "#     while temp is None:\n",
    "#         syns = Dictionary.synonym(word)\n",
    "print(time.time()-t1)    \n",
    "    "
   ]
  },
  {
   "cell_type": "code",
   "execution_count": null,
   "metadata": {},
   "outputs": [],
   "source": [
    "len(words)"
   ]
  },
  {
   "cell_type": "code",
   "execution_count": null,
   "metadata": {},
   "outputs": [],
   "source": []
  },
  {
   "cell_type": "code",
   "execution_count": null,
   "metadata": {},
   "outputs": [],
   "source": [
    "len(score)"
   ]
  },
  {
   "cell_type": "code",
   "execution_count": null,
   "metadata": {},
   "outputs": [],
   "source": []
  },
  {
   "cell_type": "code",
   "execution_count": null,
   "metadata": {},
   "outputs": [],
   "source": [
    "df.reviewText"
   ]
  },
  {
   "cell_type": "code",
   "execution_count": null,
   "metadata": {},
   "outputs": [],
   "source": [
    "Negative_Comments = df[df.overall.isin([1,2])]['reviewText']\n",
    "Negative_Comments = Negative_Comments.apply(lambda x : preprocess(x) if isinstance(x,str) else ' ')\n",
    "Negative_Comments1 = Negative_Comments.apply(lambda x : nltk.pos_tag(nltk.tokenize.word_tokenize(x)))"
   ]
  },
  {
   "cell_type": "code",
   "execution_count": null,
   "metadata": {},
   "outputs": [],
   "source": [
    "print(Negative_Comments.reset_index(drop = True)[0])\n",
    "Negative_Comments1.iloc[0]"
   ]
  },
  {
   "cell_type": "code",
   "execution_count": null,
   "metadata": {},
   "outputs": [],
   "source": []
  },
  {
   "cell_type": "code",
   "execution_count": null,
   "metadata": {},
   "outputs": [],
   "source": [
    "[i for i in Negative_Comments1.iloc[0] if i[1] in ['VB','VBP','VBN','VBZ','RB']]"
   ]
  },
  {
   "cell_type": "code",
   "execution_count": null,
   "metadata": {},
   "outputs": [],
   "source": [
    "[i for i in Negative_Comments1.iloc[0] if i[1] in ['NN','NNs']]"
   ]
  },
  {
   "cell_type": "code",
   "execution_count": null,
   "metadata": {},
   "outputs": [],
   "source": []
  },
  {
   "cell_type": "code",
   "execution_count": null,
   "metadata": {},
   "outputs": [],
   "source": []
  },
  {
   "cell_type": "code",
   "execution_count": null,
   "metadata": {},
   "outputs": [],
   "source": []
  },
  {
   "cell_type": "code",
   "execution_count": null,
   "metadata": {},
   "outputs": [],
   "source": []
  },
  {
   "cell_type": "code",
   "execution_count": null,
   "metadata": {},
   "outputs": [],
   "source": []
  },
  {
   "cell_type": "code",
   "execution_count": null,
   "metadata": {},
   "outputs": [],
   "source": []
  },
  {
   "cell_type": "code",
   "execution_count": null,
   "metadata": {},
   "outputs": [],
   "source": []
  },
  {
   "cell_type": "code",
   "execution_count": null,
   "metadata": {},
   "outputs": [],
   "source": []
  },
  {
   "cell_type": "code",
   "execution_count": null,
   "metadata": {
    "scrolled": true
   },
   "outputs": [],
   "source": [
    "t1=time.time()\n",
    "l=[]\n",
    "for i in x:\n",
    "    if isinstance(i,str):\n",
    "        l.append(preprocess(i))\n",
    "    else:\n",
    "        l.append(' ')\n",
    "print(time.time()-t1)"
   ]
  },
  {
   "cell_type": "code",
   "execution_count": null,
   "metadata": {
    "scrolled": true
   },
   "outputs": [],
   "source": [
    "nltk.corpus.wordnet.synset('run.n.01').definition()"
   ]
  },
  {
   "cell_type": "code",
   "execution_count": null,
   "metadata": {
    "scrolled": true
   },
   "outputs": [],
   "source": [
    "stopwords(nltk.tokenize.word_tokenize(x[1]))"
   ]
  },
  {
   "cell_type": "code",
   "execution_count": null,
   "metadata": {
    "scrolled": true
   },
   "outputs": [],
   "source": [
    "preproc=' '.join(df.Preprocess)"
   ]
  },
  {
   "cell_type": "code",
   "execution_count": null,
   "metadata": {
    "scrolled": true
   },
   "outputs": [],
   "source": [
    "preproc = nltk.tokenize.word_tokenize(preproc)"
   ]
  },
  {
   "cell_type": "code",
   "execution_count": null,
   "metadata": {
    "scrolled": true
   },
   "outputs": [],
   "source": [
    "count =  Counter(preproc)"
   ]
  },
  {
   "cell_type": "code",
   "execution_count": null,
   "metadata": {
    "scrolled": true
   },
   "outputs": [],
   "source": [
    "count.most_common(10)"
   ]
  },
  {
   "cell_type": "code",
   "execution_count": null,
   "metadata": {
    "scrolled": true
   },
   "outputs": [],
   "source": [
    "count.most_common(10)"
   ]
  },
  {
   "cell_type": "code",
   "execution_count": null,
   "metadata": {
    "scrolled": true
   },
   "outputs": [],
   "source": [
    "stop_words=nltk.corpus.stopwords.words('english')"
   ]
  },
  {
   "cell_type": "code",
   "execution_count": null,
   "metadata": {
    "scrolled": true
   },
   "outputs": [],
   "source": [
    "'s' in stop_words"
   ]
  },
  {
   "cell_type": "code",
   "execution_count": null,
   "metadata": {
    "scrolled": true
   },
   "outputs": [],
   "source": [
    "x=[i for i in df.reviewText if isinstance(i,str)]\n",
    "x=' '.join(x)\n",
    "tokens=nltk.tokenize.word_tokenize(x)\n",
    "counts=Counter(tokens)\n",
    "counts.most_common(100)"
   ]
  },
  {
   "cell_type": "code",
   "execution_count": null,
   "metadata": {
    "scrolled": true
   },
   "outputs": [],
   "source": []
  },
  {
   "cell_type": "code",
   "execution_count": null,
   "metadata": {
    "scrolled": true
   },
   "outputs": [],
   "source": []
  },
  {
   "cell_type": "code",
   "execution_count": null,
   "metadata": {
    "scrolled": true
   },
   "outputs": [],
   "source": [
    "from __future__ import division\n",
    "import nltk\n",
    "from nltk.corpus import wordnet as wn\n",
    "from nltk.corpus import brown\n",
    "import math\n",
    "import numpy as np\n",
    "import sys\n",
    "\n",
    "# Parameters to the algorithm. Currently set to values that was reported\n",
    "# in the paper to produce \"best\" results.\n",
    "ALPHA = 0.2\n",
    "BETA = 0.45\n",
    "ETA = 0.4\n",
    "PHI = 0.2\n",
    "DELTA = 0.85\n",
    "\n",
    "brown_freqs = dict()\n",
    "N = 0\n",
    "\n",
    "######################### word similarity ##########################\n",
    "\n",
    "def get_best_synset_pair(word_1, word_2):\n",
    "    \"\"\" \n",
    "    Choose the pair with highest path similarity among all pairs. \n",
    "    Mimics pattern-seeking behavior of humans.\n",
    "    \"\"\"\n",
    "    max_sim = -1.0\n",
    "    synsets_1 = wn.synsets(word_1)\n",
    "    synsets_2 = wn.synsets(word_2)\n",
    "    if len(synsets_1) == 0 or len(synsets_2) == 0:\n",
    "        return None, None\n",
    "    else:\n",
    "        max_sim = -1.0\n",
    "        best_pair = None, None\n",
    "        for synset_1 in synsets_1:\n",
    "            for synset_2 in synsets_2:\n",
    "               sim = wn.path_similarity(synset_1, synset_2)\n",
    "               if sim > max_sim:\n",
    "                   max_sim = sim\n",
    "                   best_pair = synset_1, synset_2\n",
    "        return best_pair\n",
    "\n",
    "def length_dist(synset_1, synset_2):\n",
    "    \"\"\"\n",
    "    Return a measure of the length of the shortest path in the semantic \n",
    "    ontology (Wordnet in our case as well as the paper's) between two \n",
    "    synsets.\n",
    "    \"\"\"\n",
    "    l_dist = sys.maxint\n",
    "    if synset_1 is None or synset_2 is None: \n",
    "        return 0.0\n",
    "    if synset_1 == synset_2:\n",
    "        # if synset_1 and synset_2 are the same synset return 0\n",
    "        l_dist = 0.0\n",
    "    else:\n",
    "        wset_1 = set([str(x.name()) for x in synset_1.lemmas()])        \n",
    "        wset_2 = set([str(x.name()) for x in synset_2.lemmas()])\n",
    "        if len(wset_1.intersection(wset_2)) > 0:\n",
    "            # if synset_1 != synset_2 but there is word overlap, return 1.0\n",
    "            l_dist = 1.0\n",
    "        else:\n",
    "            # just compute the shortest path between the two\n",
    "            l_dist = synset_1.shortest_path_distance(synset_2)\n",
    "            if l_dist is None:\n",
    "                l_dist = 0.0\n",
    "    # normalize path length to the range [0,1]\n",
    "    return math.exp(-ALPHA * l_dist)\n",
    "\n",
    "def hierarchy_dist(synset_1, synset_2):\n",
    "    \"\"\"\n",
    "    Return a measure of depth in the ontology to model the fact that \n",
    "    nodes closer to the root are broader and have less semantic similarity\n",
    "    than nodes further away from the root.\n",
    "    \"\"\"\n",
    "    h_dist = sys.maxint\n",
    "    if synset_1 is None or synset_2 is None: \n",
    "        return h_dist\n",
    "    if synset_1 == synset_2:\n",
    "        # return the depth of one of synset_1 or synset_2\n",
    "        h_dist = max([x[1] for x in synset_1.hypernym_distances()])\n",
    "    else:\n",
    "        # find the max depth of least common subsumer\n",
    "        hypernyms_1 = {x[0]:x[1] for x in synset_1.hypernym_distances()}\n",
    "        hypernyms_2 = {x[0]:x[1] for x in synset_2.hypernym_distances()}\n",
    "        lcs_candidates = set(hypernyms_1.keys()).intersection(\n",
    "            set(hypernyms_2.keys()))\n",
    "        if len(lcs_candidates) > 0:\n",
    "            lcs_dists = []\n",
    "            for lcs_candidate in lcs_candidates:\n",
    "                lcs_d1 = 0\n",
    "                if hypernyms_1.has_key(lcs_candidate):\n",
    "                    lcs_d1 = hypernyms_1[lcs_candidate]\n",
    "                lcs_d2 = 0\n",
    "                if hypernyms_2.has_key(lcs_candidate):\n",
    "                    lcs_d2 = hypernyms_2[lcs_candidate]\n",
    "                lcs_dists.append(max([lcs_d1, lcs_d2]))\n",
    "            h_dist = max(lcs_dists)\n",
    "        else:\n",
    "            h_dist = 0\n",
    "    return ((math.exp(BETA * h_dist) - math.exp(-BETA * h_dist)) / \n",
    "        (math.exp(BETA * h_dist) + math.exp(-BETA * h_dist)))\n",
    "    \n",
    "def word_similarity(word_1, word_2):\n",
    "    synset_pair = get_best_synset_pair(word_1, word_2)\n",
    "    return (length_dist(synset_pair[0], synset_pair[1]) * \n",
    "        hierarchy_dist(synset_pair[0], synset_pair[1]))\n",
    "\n",
    "######################### sentence similarity ##########################\n",
    "\n",
    "def most_similar_word(word, word_set):\n",
    "    \"\"\"\n",
    "    Find the word in the joint word set that is most similar to the word\n",
    "    passed in. We use the algorithm above to compute word similarity between\n",
    "    the word and each word in the joint word set, and return the most similar\n",
    "    word and the actual similarity value.\n",
    "    \"\"\"\n",
    "    max_sim = -1.0\n",
    "    sim_word = \"\"\n",
    "    for ref_word in word_set:\n",
    "      sim = word_similarity(word, ref_word)\n",
    "      if sim > max_sim:\n",
    "          max_sim = sim\n",
    "          sim_word = ref_word\n",
    "    return sim_word, max_sim\n",
    "    \n",
    "def info_content(lookup_word):\n",
    "    \"\"\"\n",
    "    Uses the Brown corpus available in NLTK to calculate a Laplace\n",
    "    smoothed frequency distribution of words, then uses this information\n",
    "    to compute the information content of the lookup_word.\n",
    "    \"\"\"\n",
    "    global N\n",
    "    if N == 0:\n",
    "        # poor man's lazy evaluation\n",
    "        for sent in brown.sents():\n",
    "            for word in sent:\n",
    "                word = word.lower()\n",
    "                if not brown_freqs.has_key(word):\n",
    "                    brown_freqs[word] = 0\n",
    "                brown_freqs[word] = brown_freqs[word] + 1\n",
    "                N = N + 1\n",
    "    lookup_word = lookup_word.lower()\n",
    "    n = 0 if not brown_freqs.has_key(lookup_word) else brown_freqs[lookup_word]\n",
    "    return 1.0 - (math.log(n + 1) / math.log(N + 1))\n",
    "    \n",
    "def semantic_vector(words, joint_words, info_content_norm):\n",
    "    \"\"\"\n",
    "    Computes the semantic vector of a sentence. The sentence is passed in as\n",
    "    a collection of words. The size of the semantic vector is the same as the\n",
    "    size of the joint word set. The elements are 1 if a word in the sentence\n",
    "    already exists in the joint word set, or the similarity of the word to the\n",
    "    most similar word in the joint word set if it doesn't. Both values are \n",
    "    further normalized by the word's (and similar word's) information content\n",
    "    if info_content_norm is True.\n",
    "    \"\"\"\n",
    "    sent_set = set(words)\n",
    "    semvec = np.zeros(len(joint_words))\n",
    "    i = 0\n",
    "    for joint_word in joint_words:\n",
    "        if joint_word in sent_set:\n",
    "            # if word in union exists in the sentence, s(i) = 1 (unnormalized)\n",
    "            semvec[i] = 1.0\n",
    "            if info_content_norm:\n",
    "                semvec[i] = semvec[i] * math.pow(info_content(joint_word), 2)\n",
    "        else:\n",
    "            # find the most similar word in the joint set and set the sim value\n",
    "            sim_word, max_sim = most_similar_word(joint_word, sent_set)\n",
    "            semvec[i] = max_sim if max_sim > PHI else 0.0\n",
    "            if info_content_norm:\n",
    "                semvec[i] = semvec[i] * info_content(joint_word) * info_content(sim_word)\n",
    "        i = i + 1\n",
    "    return semvec                \n",
    "            \n",
    "def semantic_similarity(sentence_1, sentence_2, info_content_norm):\n",
    "    \"\"\"\n",
    "    Computes the semantic similarity between two sentences as the cosine\n",
    "    similarity between the semantic vectors computed for each sentence.\n",
    "    \"\"\"\n",
    "    words_1 = nltk.word_tokenize(sentence_1)\n",
    "    words_2 = nltk.word_tokenize(sentence_2)\n",
    "    joint_words = set(words_1).union(set(words_2))\n",
    "    vec_1 = semantic_vector(words_1, joint_words, info_content_norm)\n",
    "    vec_2 = semantic_vector(words_2, joint_words, info_content_norm)\n",
    "    return np.dot(vec_1, vec_2.T) / (np.linalg.norm(vec_1) * np.linalg.norm(vec_2))\n",
    "\n",
    "######################### word order similarity ##########################\n",
    "\n",
    "def word_order_vector(words, joint_words, windex):\n",
    "    \"\"\"\n",
    "    Computes the word order vector for a sentence. The sentence is passed\n",
    "    in as a collection of words. The size of the word order vector is the\n",
    "    same as the size of the joint word set. The elements of the word order\n",
    "    vector are the position mapping (from the windex dictionary) of the \n",
    "    word in the joint set if the word exists in the sentence. If the word\n",
    "    does not exist in the sentence, then the value of the element is the \n",
    "    position of the most similar word in the sentence as long as the similarity\n",
    "    is above the threshold ETA.\n",
    "    \"\"\"\n",
    "    wovec = np.zeros(len(joint_words))\n",
    "    i = 0\n",
    "    wordset = set(words)\n",
    "    for joint_word in joint_words:\n",
    "        if joint_word in wordset:\n",
    "            # word in joint_words found in sentence, just populate the index\n",
    "            wovec[i] = windex[joint_word]\n",
    "        else:\n",
    "            # word not in joint_words, find most similar word and populate\n",
    "            # word_vector with the thresholded similarity\n",
    "            sim_word, max_sim = most_similar_word(joint_word, wordset)\n",
    "            if max_sim > ETA:\n",
    "                wovec[i] = windex[sim_word]\n",
    "            else:\n",
    "                wovec[i] = 0\n",
    "        i = i + 1\n",
    "    return wovec\n",
    "\n",
    "def word_order_similarity(sentence_1, sentence_2):\n",
    "    \"\"\"\n",
    "    Computes the word-order similarity between two sentences as the normalized\n",
    "    difference of word order between the two sentences.\n",
    "    \"\"\"\n",
    "    words_1 = nltk.word_tokenize(sentence_1)\n",
    "    words_2 = nltk.word_tokenize(sentence_2)\n",
    "    joint_words = list(set(words_1).union(set(words_2)))\n",
    "    windex = {x[1]: x[0] for x in enumerate(joint_words)}\n",
    "    r1 = word_order_vector(words_1, joint_words, windex)\n",
    "    r2 = word_order_vector(words_2, joint_words, windex)\n",
    "    return 1.0 - (np.linalg.norm(r1 - r2) / np.linalg.norm(r1 + r2))\n",
    "\n",
    "######################### overall similarity ##########################\n",
    "\n",
    "def similarity(sentence_1, sentence_2, info_content_norm):\n",
    "    \"\"\"\n",
    "    Calculate the semantic similarity between two sentences. The last \n",
    "    parameter is True or False depending on whether information content\n",
    "    normalization is desired or not.\n",
    "    \"\"\"\n",
    "    return DELTA * semantic_similarity(sentence_1, sentence_2, info_content_norm) + \\\n",
    "        (1.0 - DELTA) * word_order_similarity(sentence_1, sentence_2)\n",
    "        \n",
    "######################### main / test ##########################\n",
    "\n",
    "# the results of the algorithm are largely dependent on the results of \n",
    "# the word similarities, so we should test this first...\n",
    "word_pairs = [\n",
    "  [\"asylum\", \"fruit\", 0.21],\n",
    "  [\"autograph\", \"shore\", 0.29],\n",
    "  [\"autograph\", \"signature\", 0.55],\n",
    "  [\"automobile\", \"car\", 0.64],\n",
    "  [\"bird\", \"woodland\", 0.33],\n",
    "  [\"boy\", \"rooster\", 0.53],\n",
    "  [\"boy\", \"lad\", 0.66],\n",
    "  [\"boy\", \"sage\", 0.51],\n",
    "  [\"cemetery\", \"graveyard\", 0.73],\n",
    "  [\"coast\", \"forest\", 0.36],\n",
    "  [\"coast\", \"shore\", 0.76],\n",
    "  [\"cock\", \"rooster\", 1.00],\n",
    "  [\"cord\", \"smile\", 0.33],\n",
    "  [\"cord\", \"string\", 0.68],\n",
    "  [\"cushion\", \"pillow\", 0.66],\n",
    "  [\"forest\", \"graveyard\", 0.55],\n",
    "  [\"forest\", \"woodland\", 0.70],\n",
    "  [\"furnace\", \"stove\", 0.72],\n",
    "  [\"glass\", \"tumbler\", 0.65],\n",
    "  [\"grin\", \"smile\", 0.49],\n",
    "  [\"gem\", \"jewel\", 0.83],\n",
    "  [\"hill\", \"woodland\", 0.59],\n",
    "  [\"hill\", \"mound\", 0.74],\n",
    "  [\"implement\", \"tool\", 0.75],\n",
    "  [\"journey\", \"voyage\", 0.52],\n",
    "  [\"magician\", \"oracle\", 0.44],\n",
    "  [\"magician\", \"wizard\", 0.65],\n",
    "  [\"midday\", \"noon\", 1.0],\n",
    "  [\"oracle\", \"sage\", 0.43],\n",
    "  [\"serf\", \"slave\", 0.39]\n",
    "]\n",
    "for word_pair in word_pairs:\n",
    "    print \"%s\\t%s\\t%.2f\\t%.2f\" % (word_pair[0], word_pair[1], word_pair[2], \n",
    "                                  word_similarity(word_pair[0], word_pair[1]))\n",
    "\n",
    "sentence_pairs = [\n",
    "    [\"I like that bachelor.\", \"I like that unmarried man.\", 0.561],\n",
    "    [\"John is very nice.\", \"Is John very nice?\", 0.977],\n",
    "    [\"Red alcoholic drink.\", \"A bottle of wine.\", 0.585],\n",
    "    [\"Red alcoholic drink.\", \"Fresh orange juice.\", 0.611],\n",
    "    [\"Red alcoholic drink.\", \"An English dictionary.\", 0.0],\n",
    "    [\"Red alcoholic drink.\", \"Fresh apple juice.\", 0.420],\n",
    "    [\"A glass of cider.\", \"A full cup of apple juice.\", 0.678],\n",
    "    [\"It is a dog.\", \"That must be your dog.\", 0.739],\n",
    "    [\"It is a dog.\", \"It is a log.\", 0.623],\n",
    "    [\"It is a dog.\", \"It is a pig.\", 0.790],\n",
    "    [\"Dogs are animals.\", \"They are common pets.\", 0.738],\n",
    "    [\"Canis familiaris are animals.\", \"Dogs are common pets.\", 0.362],\n",
    "    [\"I have a pen.\", \"Where do you live?\", 0.0],\n",
    "    [\"I have a pen.\", \"Where is ink?\", 0.129],\n",
    "    [\"I have a hammer.\", \"Take some nails.\", 0.508],\n",
    "    [\"I have a hammer.\", \"Take some apples.\", 0.121]\n",
    "]\n",
    "for sent_pair in sentence_pairs:\n",
    "    print \"%s\\t%s\\t%.3f\\t%.3f\\t%.3f\" % (sent_pair[0], sent_pair[1], sent_pair[2], \n",
    "        similarity(sent_pair[0], sent_pair[1], False),\n",
    "        similarity(sent_pair[0], sent_pair[1], True))\n"
   ]
  }
 ],
 "metadata": {
  "kernelspec": {
   "display_name": "Python 3",
   "language": "python",
   "name": "python3"
  },
  "language_info": {
   "codemirror_mode": {
    "name": "ipython",
    "version": 3
   },
   "file_extension": ".py",
   "mimetype": "text/x-python",
   "name": "python",
   "nbconvert_exporter": "python",
   "pygments_lexer": "ipython3",
   "version": "3.7.3"
  }
 },
 "nbformat": 4,
 "nbformat_minor": 2
}
